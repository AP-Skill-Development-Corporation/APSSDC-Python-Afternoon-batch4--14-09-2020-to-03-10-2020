{
 "cells": [
  {
   "cell_type": "markdown",
   "metadata": {},
   "source": [
    "- File Handling\n",
    "    - What is file\n",
    "    - What is file handling\n",
    "    - File methods\n",
    "    - Different mods\n",
    "    - Use of 'with' statement\n",
    "    "
   ]
  },
  {
   "cell_type": "markdown",
   "metadata": {},
   "source": [
    "- File\n",
    "    - File is named location on disk used to store related information\n",
    "    - ex: .exe,.mp3,.mp4,.txt,.ipynb,.jpg,.obj,.png etc..\n",
    "    \n",
    "- File handling\n",
    "    - creating, reading, update and delete\n",
    "    \n",
    "    - create\n",
    "    - open\n",
    "    - Work \n",
    "    - close\n",
    "   \n",
    "- File methods\n",
    "    - open()\n",
    "        - Syntax: file_obj = open('filename',mode)\n",
    "    - close()\n",
    "        - Syntax: file_obj.close()\n",
    "    - read()\n",
    "        - Syntax: file_obj.read(size)\n",
    "    - write()\n",
    "        - Syntax: file_obj.write(data)\n",
    "    \n",
    "- Different modes\n",
    "    - open('filename',mode)\n",
    "    - open('filename','r')\n",
    "    - open('filename','w')\n",
    "    - open('filename','a')\n",
    "    - open('filename','r+')\n",
    "    - open('filename','w+')\n",
    "    - open('filename','a+')\n",
    "    \n",
    "- Use of with statements\n",
    "    - The best way to close a file by using the with statement"
   ]
  },
  {
   "cell_type": "code",
   "execution_count": 6,
   "metadata": {},
   "outputs": [
    {
     "name": "stdout",
     "output_type": "stream",
     "text": [
      "Existed\n"
     ]
    }
   ],
   "source": [
    "## file opening\n",
    "\n",
    "f = open('file.txt')\n",
    "if f:\n",
    "    print('Existed')\n",
    "f.close()\n",
    "    "
   ]
  },
  {
   "cell_type": "code",
   "execution_count": 9,
   "metadata": {},
   "outputs": [
    {
     "name": "stdout",
     "output_type": "stream",
     "text": [
      "hello everyone\n",
      "welcome to today's class \n",
      "Today we are learning File handling topic in python\n",
      "Thank you \n"
     ]
    }
   ],
   "source": [
    "## file data reading \n",
    "\n",
    "f = open('file.txt','r')\n",
    "data = f.read()\n",
    "print(data)\n",
    "f.close()"
   ]
  },
  {
   "cell_type": "code",
   "execution_count": 11,
   "metadata": {},
   "outputs": [
    {
     "name": "stdout",
     "output_type": "stream",
     "text": [
      "hello ev\n"
     ]
    }
   ],
   "source": [
    "f = open('file.txt','r')\n",
    "data = f.read(8)\n",
    "print(data)\n",
    "f.close()"
   ]
  },
  {
   "cell_type": "markdown",
   "metadata": {},
   "source": [
    "- File objective methods\n",
    "    - seek()\n",
    "        - used to change the cursor position\n",
    "    - tell()\n",
    "        - used to know the cursor position"
   ]
  },
  {
   "cell_type": "code",
   "execution_count": 13,
   "metadata": {},
   "outputs": [
    {
     "name": "stdout",
     "output_type": "stream",
     "text": [
      "8\n",
      "12\n"
     ]
    }
   ],
   "source": [
    "f = open('file.txt','r')\n",
    "data = f.read(8)\n",
    "print(f.tell())\n",
    "f.seek(12)\n",
    "print(f.tell())\n",
    "f.close()"
   ]
  },
  {
   "cell_type": "code",
   "execution_count": 16,
   "metadata": {},
   "outputs": [],
   "source": [
    "f1 = open('apssdc.txt','w')\n",
    "f1.close()"
   ]
  },
  {
   "cell_type": "code",
   "execution_count": 22,
   "metadata": {},
   "outputs": [],
   "source": [
    "with open('apssdc.txt','w') as f1:\n",
    "    f1.write('Stay home stay safe')"
   ]
  },
  {
   "cell_type": "code",
   "execution_count": 20,
   "metadata": {},
   "outputs": [],
   "source": [
    "with open('ap.txt','a') as f2:\n",
    "    f2.write('hii hello how are you')"
   ]
  },
  {
   "cell_type": "code",
   "execution_count": 24,
   "metadata": {},
   "outputs": [],
   "source": [
    "with open('apssdc.txt','a') as f1:\n",
    "    f1.write('\\nStay home stay safe')"
   ]
  },
  {
   "cell_type": "code",
   "execution_count": 25,
   "metadata": {},
   "outputs": [],
   "source": [
    "with open('apssdc.txt','w') as f1:\n",
    "    f1.write('\\nStay home stay safe')"
   ]
  },
  {
   "cell_type": "code",
   "execution_count": 26,
   "metadata": {},
   "outputs": [
    {
     "data": {
      "text/plain": [
       "\"hello everyone\\nwelcome to today's class \\nToday we are learning File handling topic in python\\nThank you \""
      ]
     },
     "execution_count": 26,
     "metadata": {},
     "output_type": "execute_result"
    }
   ],
   "source": [
    "## read file using function\n",
    "\n",
    "def read_File(filename):\n",
    "    with open(filename,'r') as f:\n",
    "        filedata = f.read()\n",
    "    return filedata\n",
    "\n",
    "read_File('file.txt')\n",
    "\n",
    "\n",
    "    \n",
    "    "
   ]
  },
  {
   "cell_type": "code",
   "execution_count": 27,
   "metadata": {},
   "outputs": [
    {
     "data": {
      "text/plain": [
       "'\\nStay home stay safe'"
      ]
     },
     "execution_count": 27,
     "metadata": {},
     "output_type": "execute_result"
    }
   ],
   "source": [
    "read_File('apssdc.txt')"
   ]
  },
  {
   "cell_type": "code",
   "execution_count": 28,
   "metadata": {},
   "outputs": [
    {
     "data": {
      "text/plain": [
       "'hii hello how are you'"
      ]
     },
     "execution_count": 28,
     "metadata": {},
     "output_type": "execute_result"
    }
   ],
   "source": [
    "read_File('ap.txt')"
   ]
  },
  {
   "cell_type": "code",
   "execution_count": 29,
   "metadata": {},
   "outputs": [
    {
     "data": {
      "text/plain": [
       "4"
      ]
     },
     "execution_count": 29,
     "metadata": {},
     "output_type": "execute_result"
    }
   ],
   "source": [
    "## read lines in a file\n",
    "\n",
    "def readLines(filename):\n",
    "    return len(read_File(filename).split('\\n'))\n",
    "\n",
    "readLines('file.txt')"
   ]
  },
  {
   "cell_type": "code",
   "execution_count": 30,
   "metadata": {},
   "outputs": [
    {
     "data": {
      "text/plain": [
       "4"
      ]
     },
     "execution_count": 30,
     "metadata": {},
     "output_type": "execute_result"
    }
   ],
   "source": [
    "def readLines(filename):\n",
    "    with open(filename) as f:\n",
    "        filedata = f.read()\n",
    "    return len(filedata.split('\\n'))\n",
    "\n",
    "readLines('file.txt')"
   ]
  },
  {
   "cell_type": "code",
   "execution_count": 33,
   "metadata": {},
   "outputs": [
    {
     "name": "stdout",
     "output_type": "stream",
     "text": [
      "['hello', 'all wel', 'come to bigboss']\n"
     ]
    }
   ],
   "source": [
    "s = 'hello#all wel#come to bigboss'\n",
    "print(s.split('#'))\n"
   ]
  },
  {
   "cell_type": "code",
   "execution_count": 35,
   "metadata": {},
   "outputs": [
    {
     "data": {
      "text/plain": [
       "17"
      ]
     },
     "execution_count": 35,
     "metadata": {},
     "output_type": "execute_result"
    }
   ],
   "source": [
    "## Number of words\n",
    "\n",
    "def no_words(filename):\n",
    "    wc = 0\n",
    "    with open(filename) as f:\n",
    "        filedata = f.readlines()\n",
    "        for line in filedata:\n",
    "            words_list = line.split()\n",
    "            wc += len(words_list)\n",
    "    return wc\n",
    "\n",
    "no_words('file.txt')\n",
    "            \n",
    "            \n",
    "            \n",
    "            \n",
    "        \n",
    "        \n",
    "        "
   ]
  },
  {
   "cell_type": "code",
   "execution_count": 36,
   "metadata": {
    "collapsed": true
   },
   "outputs": [
    {
     "name": "stdout",
     "output_type": "stream",
     "text": [
      "d\n",
      "a\n",
      "f\n",
      "j\n",
      "d\n",
      " \n",
      "s\n",
      "a\n",
      "k\n",
      "f\n",
      "d\n",
      "h\n",
      " \n",
      "a\n",
      "i\n",
      "e\n",
      "r\n",
      "u\n"
     ]
    }
   ],
   "source": [
    "s = 'dafjd sakfdh aieru'\n",
    "for i in s:\n",
    "    print(i)"
   ]
  },
  {
   "cell_type": "markdown",
   "metadata": {},
   "source": [
    "- Task\n",
    "    -1. Freqency of word\n",
    "        - i/p (filename,'to')\n",
    "        - o/p 2\n",
    "        \n",
    "    -2. { hello:1, everyone:1, welcome:1, to:2 .....}\n",
    "    "
   ]
  },
  {
   "cell_type": "code",
   "execution_count": null,
   "metadata": {},
   "outputs": [],
   "source": []
  },
  {
   "cell_type": "code",
   "execution_count": null,
   "metadata": {},
   "outputs": [],
   "source": []
  },
  {
   "cell_type": "code",
   "execution_count": null,
   "metadata": {},
   "outputs": [],
   "source": []
  },
  {
   "cell_type": "code",
   "execution_count": null,
   "metadata": {},
   "outputs": [],
   "source": []
  }
 ],
 "metadata": {
  "kernelspec": {
   "display_name": "Python 3",
   "language": "python",
   "name": "python3"
  },
  "language_info": {
   "codemirror_mode": {
    "name": "ipython",
    "version": 3
   },
   "file_extension": ".py",
   "mimetype": "text/x-python",
   "name": "python",
   "nbconvert_exporter": "python",
   "pygments_lexer": "ipython3",
   "version": "3.8.3"
  }
 },
 "nbformat": 4,
 "nbformat_minor": 4
}
